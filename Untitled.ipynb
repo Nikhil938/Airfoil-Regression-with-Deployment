{
 "cells": [
  {
   "cell_type": "code",
   "execution_count": 1,
   "id": "3f1157c6",
   "metadata": {},
   "outputs": [],
   "source": [
    "import pickle\n",
    "from flask import Flask, request, app, jsonify, url_for, render_template\n",
    "import numpy as np\n",
    "import pandas as pd"
   ]
  },
  {
   "cell_type": "code",
   "execution_count": 2,
   "id": "dfdb1348",
   "metadata": {},
   "outputs": [
    {
     "name": "stderr",
     "output_type": "stream",
     "text": [
      "C:\\Users\\ACER\\anaconda3\\lib\\site-packages\\sklearn\\base.py:310: UserWarning: Trying to unpickle estimator LinearRegression from version 0.23.2 when using version 0.24.2. This might lead to breaking code or invalid results. Use at your own risk.\n",
      "  warnings.warn(\n"
     ]
    }
   ],
   "source": [
    "app = Flask(__name__)\n",
    "model = pickle.load(open('model.pkl', 'rb'))\n"
   ]
  },
  {
   "cell_type": "code",
   "execution_count": 3,
   "id": "41ca0a95",
   "metadata": {},
   "outputs": [],
   "source": [
    "@app.route('/')\n",
    "def home():\n",
    "    # return 'Hello World'\n",
    "    return render_template('home.html')\n"
   ]
  },
  {
   "cell_type": "code",
   "execution_count": 4,
   "id": "c9033bf9",
   "metadata": {},
   "outputs": [],
   "source": [
    "@app.route('/predict_api', methods=['POST'])\n",
    "def predict_api():\n",
    "    data = request.json['data']\n",
    "    print(data)\n",
    "    new_data = [list(data.values())]\n",
    "    output = model.predict(new_data)[0]\n",
    "    return jsonify(output)"
   ]
  },
  {
   "cell_type": "code",
   "execution_count": 5,
   "id": "f1cceb8e",
   "metadata": {},
   "outputs": [],
   "source": [
    "@app.route('/predict', methods=['POST'])\n",
    "def predict():\n",
    "    data = [float(x) for x in request.form.values()]\n",
    "    final_features = [np.array(data)]\n",
    "    print(data)\n",
    "\n",
    "    output = model.predict(final_features)[0]\n",
    "    print(output)\n",
    "    # output = round(prediction[0], 2)\n",
    "    return render_template('home.html', prediction_text=\"Airfoil pressure is  {}\".format(output))\n"
   ]
  },
  {
   "cell_type": "code",
   "execution_count": null,
   "id": "eff8474d",
   "metadata": {},
   "outputs": [],
   "source": [
    "if __name__ == \"__main__\":\n",
    "    app.run(debug=True)"
   ]
  }
 ],
 "metadata": {
  "kernelspec": {
   "display_name": "Python 3 (ipykernel)",
   "language": "python",
   "name": "python3"
  },
  "language_info": {
   "codemirror_mode": {
    "name": "ipython",
    "version": 3
   },
   "file_extension": ".py",
   "mimetype": "text/x-python",
   "name": "python",
   "nbconvert_exporter": "python",
   "pygments_lexer": "ipython3",
   "version": "3.9.7"
  }
 },
 "nbformat": 4,
 "nbformat_minor": 5
}
